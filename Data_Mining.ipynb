{
 "cells": [
  {
   "cell_type": "code",
   "execution_count": 2,
   "id": "b0d05089",
   "metadata": {},
   "outputs": [
    {
     "name": "stdout",
     "output_type": "stream",
     "text": [
      "[[1.0e+02 1.0e-03]\n",
      " [8.0e+00 5.0e-02]\n",
      " [5.0e+01 5.0e-03]\n",
      " [8.8e+01 7.0e-02]\n",
      " [4.0e+00 1.0e-01]]\n",
      "\n",
      "[[1.         0.        ]\n",
      " [0.04166667 0.49494949]\n",
      " [0.47916667 0.04040404]\n",
      " [0.875      0.6969697 ]\n",
      " [0.         1.        ]]\n"
     ]
    }
   ],
   "source": [
    "from numpy import asarray\n",
    "from sklearn.preprocessing import MinMaxScaler\n",
    "data = asarray([[100,0.001],\n",
    "                [8,0.05],\n",
    "                [50,0.005],\n",
    "                [88,0.07],\n",
    "                [4,0.1]\n",
    "               ])\n",
    "print(data)\n",
    "scaler = MinMaxScaler()\n",
    "scaled = scaler.fit_transform(data)\n",
    "print()\n",
    "print(scaled)"
   ]
  },
  {
   "cell_type": "code",
   "execution_count": 8,
   "id": "a1bfbbdb",
   "metadata": {},
   "outputs": [
    {
     "name": "stdout",
     "output_type": "stream",
     "text": [
      "[[5.1 3.5 1.4 0.2]\n",
      " [4.9 3.  1.4 0.2]\n",
      " [4.7 3.2 1.3 0.2]\n",
      " [4.6 3.1 1.5 0.2]\n",
      " [5.  3.6 1.4 0.2]\n",
      " [5.4 3.9 1.7 0.4]\n",
      " [4.6 3.4 1.4 0.3]\n",
      " [5.  3.4 1.5 0.2]\n",
      " [4.4 2.9 1.4 0.2]\n",
      " [4.9 3.1 1.5 0.1]\n",
      " [5.4 3.7 1.5 0.2]\n",
      " [4.8 3.4 1.6 0.2]\n",
      " [4.8 3.  1.4 0.1]\n",
      " [4.3 3.  1.1 0.1]\n",
      " [5.8 4.  1.2 0.2]\n",
      " [5.7 4.4 1.5 0.4]\n",
      " [5.4 3.9 1.3 0.4]\n",
      " [5.1 3.5 1.4 0.3]\n",
      " [5.7 3.8 1.7 0.3]\n",
      " [5.1 3.8 1.5 0.3]\n",
      " [5.4 3.4 1.7 0.2]\n",
      " [5.1 3.7 1.5 0.4]\n",
      " [4.6 3.6 1.  0.2]\n",
      " [5.1 3.3 1.7 0.5]\n",
      " [4.8 3.4 1.9 0.2]\n",
      " [5.  3.  1.6 0.2]\n",
      " [5.  3.4 1.6 0.4]\n",
      " [5.2 3.5 1.5 0.2]\n",
      " [5.2 3.4 1.4 0.2]\n",
      " [4.7 3.2 1.6 0.2]\n",
      " [4.8 3.1 1.6 0.2]\n",
      " [5.4 3.4 1.5 0.4]\n",
      " [5.2 4.1 1.5 0.1]\n",
      " [5.5 4.2 1.4 0.2]\n",
      " [4.9 3.1 1.5 0.2]\n",
      " [5.  3.2 1.2 0.2]\n",
      " [5.5 3.5 1.3 0.2]\n",
      " [4.9 3.6 1.4 0.1]\n",
      " [4.4 3.  1.3 0.2]\n",
      " [5.1 3.4 1.5 0.2]\n",
      " [5.  3.5 1.3 0.3]\n",
      " [4.5 2.3 1.3 0.3]\n",
      " [4.4 3.2 1.3 0.2]\n",
      " [5.  3.5 1.6 0.6]\n",
      " [5.1 3.8 1.9 0.4]\n",
      " [4.8 3.  1.4 0.3]\n",
      " [5.1 3.8 1.6 0.2]\n",
      " [4.6 3.2 1.4 0.2]\n",
      " [5.3 3.7 1.5 0.2]\n",
      " [5.  3.3 1.4 0.2]\n",
      " [7.  3.2 4.7 1.4]\n",
      " [6.4 3.2 4.5 1.5]\n",
      " [6.9 3.1 4.9 1.5]\n",
      " [5.5 2.3 4.  1.3]\n",
      " [6.5 2.8 4.6 1.5]\n",
      " [5.7 2.8 4.5 1.3]\n",
      " [6.3 3.3 4.7 1.6]\n",
      " [4.9 2.4 3.3 1. ]\n",
      " [6.6 2.9 4.6 1.3]\n",
      " [5.2 2.7 3.9 1.4]\n",
      " [5.  2.  3.5 1. ]\n",
      " [5.9 3.  4.2 1.5]\n",
      " [6.  2.2 4.  1. ]\n",
      " [6.1 2.9 4.7 1.4]\n",
      " [5.6 2.9 3.6 1.3]\n",
      " [6.7 3.1 4.4 1.4]\n",
      " [5.6 3.  4.5 1.5]\n",
      " [5.8 2.7 4.1 1. ]\n",
      " [6.2 2.2 4.5 1.5]\n",
      " [5.6 2.5 3.9 1.1]\n",
      " [5.9 3.2 4.8 1.8]\n",
      " [6.1 2.8 4.  1.3]\n",
      " [6.3 2.5 4.9 1.5]\n",
      " [6.1 2.8 4.7 1.2]\n",
      " [6.4 2.9 4.3 1.3]\n",
      " [6.6 3.  4.4 1.4]\n",
      " [6.8 2.8 4.8 1.4]\n",
      " [6.7 3.  5.  1.7]\n",
      " [6.  2.9 4.5 1.5]\n",
      " [5.7 2.6 3.5 1. ]\n",
      " [5.5 2.4 3.8 1.1]\n",
      " [5.5 2.4 3.7 1. ]\n",
      " [5.8 2.7 3.9 1.2]\n",
      " [6.  2.7 5.1 1.6]\n",
      " [5.4 3.  4.5 1.5]\n",
      " [6.  3.4 4.5 1.6]\n",
      " [6.7 3.1 4.7 1.5]\n",
      " [6.3 2.3 4.4 1.3]\n",
      " [5.6 3.  4.1 1.3]\n",
      " [5.5 2.5 4.  1.3]\n",
      " [5.5 2.6 4.4 1.2]\n",
      " [6.1 3.  4.6 1.4]\n",
      " [5.8 2.6 4.  1.2]\n",
      " [5.  2.3 3.3 1. ]\n",
      " [5.6 2.7 4.2 1.3]\n",
      " [5.7 3.  4.2 1.2]\n",
      " [5.7 2.9 4.2 1.3]\n",
      " [6.2 2.9 4.3 1.3]\n",
      " [5.1 2.5 3.  1.1]\n",
      " [5.7 2.8 4.1 1.3]\n",
      " [6.3 3.3 6.  2.5]\n",
      " [5.8 2.7 5.1 1.9]\n",
      " [7.1 3.  5.9 2.1]\n",
      " [6.3 2.9 5.6 1.8]\n",
      " [6.5 3.  5.8 2.2]\n",
      " [7.6 3.  6.6 2.1]\n",
      " [4.9 2.5 4.5 1.7]\n",
      " [7.3 2.9 6.3 1.8]\n",
      " [6.7 2.5 5.8 1.8]\n",
      " [7.2 3.6 6.1 2.5]\n",
      " [6.5 3.2 5.1 2. ]\n",
      " [6.4 2.7 5.3 1.9]\n",
      " [6.8 3.  5.5 2.1]\n",
      " [5.7 2.5 5.  2. ]\n",
      " [5.8 2.8 5.1 2.4]\n",
      " [6.4 3.2 5.3 2.3]\n",
      " [6.5 3.  5.5 1.8]\n",
      " [7.7 3.8 6.7 2.2]\n",
      " [7.7 2.6 6.9 2.3]\n",
      " [6.  2.2 5.  1.5]\n",
      " [6.9 3.2 5.7 2.3]\n",
      " [5.6 2.8 4.9 2. ]\n",
      " [7.7 2.8 6.7 2. ]\n",
      " [6.3 2.7 4.9 1.8]\n",
      " [6.7 3.3 5.7 2.1]\n",
      " [7.2 3.2 6.  1.8]\n",
      " [6.2 2.8 4.8 1.8]\n",
      " [6.1 3.  4.9 1.8]\n",
      " [6.4 2.8 5.6 2.1]\n",
      " [7.2 3.  5.8 1.6]\n",
      " [7.4 2.8 6.1 1.9]\n",
      " [7.9 3.8 6.4 2. ]\n",
      " [6.4 2.8 5.6 2.2]\n",
      " [6.3 2.8 5.1 1.5]\n",
      " [6.1 2.6 5.6 1.4]\n",
      " [7.7 3.  6.1 2.3]\n",
      " [6.3 3.4 5.6 2.4]\n",
      " [6.4 3.1 5.5 1.8]\n",
      " [6.  3.  4.8 1.8]\n",
      " [6.9 3.1 5.4 2.1]\n",
      " [6.7 3.1 5.6 2.4]\n",
      " [6.9 3.1 5.1 2.3]\n",
      " [5.8 2.7 5.1 1.9]\n",
      " [6.8 3.2 5.9 2.3]\n",
      " [6.7 3.3 5.7 2.5]\n",
      " [6.7 3.  5.2 2.3]\n",
      " [6.3 2.5 5.  1.9]\n",
      " [6.5 3.  5.2 2. ]\n",
      " [6.2 3.4 5.4 2.3]\n",
      " [5.9 3.  5.1 1.8]]\n",
      "[0 0 0 0 0 0 0 0 0 0 0 0 0 0 0 0 0 0 0 0 0 0 0 0 0 0 0 0 0 0 0 0 0 0 0 0 0\n",
      " 0 0 0 0 0 0 0 0 0 0 0 0 0 1 1 1 1 1 1 1 1 1 1 1 1 1 1 1 1 1 1 1 1 1 1 1 1\n",
      " 1 1 1 1 1 1 1 1 1 1 1 1 1 1 1 1 1 1 1 1 1 1 1 1 1 1 2 2 2 2 2 2 2 2 2 2 2\n",
      " 2 2 2 2 2 2 2 2 2 2 2 2 2 2 2 2 2 2 2 2 2 2 2 2 2 2 2 2 2 2 2 2 2 2 2 2 2\n",
      " 2 2]\n",
      "\n",
      "[[0.33333333 1.         0.06779661 0.04166667]\n",
      " [0.30555556 0.63636364 0.11864407 0.04166667]\n",
      " [0.58333333 0.54545455 0.72881356 0.91666667]\n",
      " [0.66666667 0.59090909 0.79661017 0.83333333]\n",
      " [0.19444444 0.54545455 0.03389831 0.04166667]\n",
      " [0.66666667 0.5        0.77966102 0.95833333]\n",
      " [0.91666667 0.45454545 0.94915254 0.83333333]\n",
      " [0.41666667 0.90909091 0.03389831 0.04166667]\n",
      " [0.80555556 0.45454545 0.81355932 0.625     ]\n",
      " [0.63888889 0.40909091 0.61016949 0.5       ]\n",
      " [0.19444444 0.13636364 0.38983051 0.375     ]\n",
      " [0.25       0.31818182 0.49152542 0.54166667]\n",
      " [0.11111111 0.54545455 0.05084746 0.04166667]\n",
      " [0.5        0.36363636 0.62711864 0.45833333]\n",
      " [0.33333333 0.22727273 0.50847458 0.5       ]\n",
      " [0.41666667 0.31818182 0.69491525 0.75      ]\n",
      " [0.13888889 0.63636364 0.15254237 0.04166667]\n",
      " [0.19444444 0.         0.42372881 0.375     ]\n",
      " [0.41666667 0.31818182 0.49152542 0.45833333]\n",
      " [0.11111111 0.54545455 0.10169492 0.04166667]\n",
      " [0.52777778 0.36363636 0.6440678  0.70833333]\n",
      " [0.94444444 0.27272727 1.         0.91666667]\n",
      " [0.58333333 0.54545455 0.59322034 0.58333333]\n",
      " [0.38888889 0.36363636 0.59322034 0.5       ]\n",
      " [0.33333333 0.18181818 0.47457627 0.41666667]\n",
      " [0.55555556 0.63636364 0.77966102 0.95833333]\n",
      " [0.5        0.40909091 0.62711864 0.54166667]\n",
      " [0.5        0.27272727 0.77966102 0.54166667]\n",
      " [0.61111111 0.45454545 0.81355932 0.875     ]\n",
      " [0.41666667 0.36363636 0.69491525 0.95833333]\n",
      " [0.38888889 0.36363636 0.52542373 0.5       ]\n",
      " [0.22222222 0.77272727 0.08474576 0.125     ]\n",
      " [0.94444444 0.81818182 0.96610169 0.875     ]\n",
      " [0.55555556 0.22727273 0.6779661  0.75      ]\n",
      " [0.47222222 0.45454545 0.6440678  0.70833333]\n",
      " [0.58333333 0.36363636 0.77966102 0.83333333]\n",
      " [0.44444444 0.45454545 0.54237288 0.58333333]\n",
      " [0.94444444 0.36363636 0.96610169 0.79166667]\n",
      " [0.58333333 0.5        0.76271186 0.70833333]\n",
      " [0.22222222 0.81818182 0.10169492 0.04166667]\n",
      " [0.55555556 0.31818182 0.66101695 0.70833333]\n",
      " [0.25       0.63636364 0.06779661 0.04166667]\n",
      " [0.55555556 0.36363636 0.69491525 0.58333333]\n",
      " [0.22222222 0.81818182 0.15254237 0.125     ]\n",
      " [0.08333333 0.72727273 0.         0.04166667]\n",
      " [0.55555556 0.22727273 0.66101695 0.58333333]\n",
      " [0.16666667 0.5        0.08474576 0.04166667]\n",
      " [0.         0.45454545 0.01694915 0.        ]\n",
      " [0.61111111 0.45454545 0.76271186 0.70833333]\n",
      " [0.66666667 0.5        0.62711864 0.58333333]\n",
      " [0.38888889 0.81818182 0.11864407 0.08333333]\n",
      " [0.38888889 0.27272727 0.42372881 0.375     ]\n",
      " [0.41666667 0.31818182 0.52542373 0.375     ]\n",
      " [0.22222222 0.63636364 0.08474576 0.04166667]\n",
      " [0.30555556 0.77272727 0.08474576 0.04166667]\n",
      " [0.25       0.68181818 0.08474576 0.04166667]\n",
      " [0.33333333 0.18181818 0.45762712 0.375     ]\n",
      " [0.80555556 0.72727273 0.86440678 1.        ]\n",
      " [0.19444444 0.68181818 0.05084746 0.08333333]\n",
      " [0.72222222 0.5        0.66101695 0.58333333]\n",
      " [0.02777778 0.45454545 0.05084746 0.04166667]\n",
      " [0.47222222 0.63636364 0.59322034 0.625     ]\n",
      " [0.80555556 0.54545455 0.84745763 0.70833333]\n",
      " [0.13888889 0.5        0.10169492 0.04166667]\n",
      " [0.19444444 0.59090909 0.06779661 0.04166667]\n",
      " [0.33333333 0.27272727 0.57627119 0.45833333]\n",
      " [0.41666667 0.31818182 0.69491525 0.75      ]\n",
      " [0.36111111 0.40909091 0.44067797 0.5       ]\n",
      " [0.36111111 0.45454545 0.52542373 0.5       ]\n",
      " [0.44444444 0.54545455 0.6440678  0.70833333]\n",
      " [0.94444444 0.45454545 0.86440678 0.91666667]\n",
      " [0.47222222 0.40909091 0.59322034 0.58333333]\n",
      " [0.30555556 0.45454545 0.59322034 0.58333333]\n",
      " [0.72222222 0.5        0.74576271 0.83333333]\n",
      " [0.58333333 0.36363636 0.77966102 0.875     ]\n",
      " [0.5        0.45454545 0.61016949 0.54166667]\n",
      " [0.30555556 0.63636364 0.08474576 0.125     ]\n",
      " [0.22222222 0.59090909 0.11864407 0.16666667]\n",
      " [0.86111111 0.36363636 0.86440678 0.75      ]\n",
      " [0.47222222 0.31818182 0.69491525 0.625     ]\n",
      " [1.         0.81818182 0.91525424 0.79166667]\n",
      " [0.47222222 0.09090909 0.6779661  0.58333333]\n",
      " [0.27777778 0.77272727 0.08474576 0.04166667]\n",
      " [0.38888889 0.40909091 0.54237288 0.5       ]\n",
      " [0.61111111 0.54545455 0.69491525 0.79166667]\n",
      " [0.55555556 0.59090909 0.84745763 1.        ]\n",
      " [0.22222222 0.81818182 0.08474576 0.08333333]\n",
      " [0.19444444 0.72727273 0.06779661 0.04166667]\n",
      " [0.55555556 0.40909091 0.77966102 0.70833333]\n",
      " [0.22222222 0.68181818 0.06779661 0.08333333]\n",
      " [0.69444444 0.54545455 0.83050847 0.91666667]\n",
      " [0.36111111 0.22727273 0.49152542 0.41666667]\n",
      " [0.38888889 0.45454545 0.54237288 0.45833333]\n",
      " [0.52777778 0.40909091 0.55932203 0.5       ]\n",
      " [0.25       0.95454545 0.08474576 0.        ]\n",
      " [0.66666667 0.45454545 0.71186441 0.91666667]\n",
      " [0.55555556 0.13636364 0.57627119 0.5       ]\n",
      " [0.33333333 0.68181818 0.05084746 0.04166667]\n",
      " [0.13888889 0.45454545 0.06779661 0.08333333]\n",
      " [0.66666667 0.45454545 0.6779661  0.66666667]\n",
      " [0.05555556 0.13636364 0.05084746 0.08333333]\n",
      " [0.41666667 0.27272727 0.50847458 0.45833333]\n",
      " [0.19444444 0.63636364 0.10169492 0.125     ]\n",
      " [0.08333333 0.5        0.08474576 0.04166667]\n",
      " [0.02777778 0.54545455 0.05084746 0.04166667]]\n",
      "\n",
      "[[0.62068966 0.54545455 0.82       0.91666667]\n",
      " [0.34482759 0.77272727 0.08       0.125     ]\n",
      " [0.06896552 0.54545455 0.02       0.08333333]\n",
      " [0.17241379 0.13636364 0.64       0.66666667]\n",
      " [0.75862069 0.36363636 0.62       0.54166667]\n",
      " [0.5862069  0.27272727 0.54       0.5       ]\n",
      " [0.79310345 0.13636364 0.9        0.70833333]\n",
      " [0.62068966 0.         0.64       0.58333333]\n",
      " [0.68965517 0.22727273 0.8        0.75      ]\n",
      " [0.34482759 0.77272727 0.         0.125     ]\n",
      " [0.44827586 1.         0.04       0.125     ]\n",
      " [0.5862069  0.36363636 0.72       0.70833333]\n",
      " [0.         0.31818182 0.02       0.04166667]\n",
      " [0.17241379 0.09090909 0.4        0.375     ]\n",
      " [0.06896552 0.45454545 0.02       0.04166667]\n",
      " [0.82758621 0.27272727 0.7        0.54166667]\n",
      " [0.86206897 0.40909091 0.76       0.91666667]\n",
      " [0.4137931  0.36363636 0.64       0.58333333]\n",
      " [0.68965517 0.31818182 0.6        0.5       ]\n",
      " [0.72413793 0.36363636 0.78       0.79166667]\n",
      " [0.93103448 0.36363636 0.92       0.83333333]\n",
      " [0.13793103 0.36363636 0.02       0.        ]\n",
      " [0.79310345 0.40909091 0.62       0.54166667]\n",
      " [0.4137931  0.27272727 0.72       0.79166667]\n",
      " [0.4137931  0.22727273 0.58       0.5       ]\n",
      " [0.65517241 0.5        0.68       0.625     ]\n",
      " [0.24137931 0.13636364 0.34       0.41666667]\n",
      " [0.79310345 0.5        0.88       1.        ]\n",
      " [0.20689655 0.59090909 0.06       0.20833333]\n",
      " [0.44827586 0.13636364 0.74       0.79166667]\n",
      " [0.13793103 0.54545455 0.06       0.04166667]\n",
      " [0.24137931 0.59090909 0.02       0.04166667]\n",
      " [0.55172414 0.         0.54       0.375     ]\n",
      " [0.37931034 0.04545455 0.54       0.5       ]\n",
      " [1.         0.31818182 1.         0.70833333]\n",
      " [0.82758621 0.36363636 0.84       0.83333333]\n",
      " [0.17241379 0.63636364 0.02       0.        ]\n",
      " [0.20689655 0.36363636 0.06       0.04166667]\n",
      " [0.17241379 0.36363636 0.02       0.04166667]\n",
      " [0.89655172 0.45454545 0.68       0.54166667]\n",
      " [0.86206897 0.45454545 0.88       0.91666667]\n",
      " [0.51724138 0.36363636 0.76       0.70833333]\n",
      " [0.72413793 0.27272727 0.66       0.58333333]\n",
      " [0.20689655 0.54545455 0.04       0.04166667]\n",
      " [0.17241379 0.40909091 0.04       0.        ]]\n"
     ]
    }
   ],
   "source": [
    "from sklearn import datasets\n",
    "from sklearn.model_selection import train_test_split\n",
    "iris = datasets.load_iris()\n",
    "X = iris.data\n",
    "Y = iris.target\n",
    "print(X)\n",
    "print(Y)\n",
    "\n",
    "X_train,X_test,Y_train,Y_test = train_test_split(X,Y,test_size=0.3,random_state=1,stratify=Y)\n",
    "\n",
    "mmscaler = MinMaxScaler()\n",
    "X_train_norm = mmscaler.fit_transform(X_train)\n",
    "X_test_norm = mmscaler.fit_transform(X_test)\n",
    "\n",
    "print()\n",
    "print(X_train_norm)\n",
    "print()\n",
    "print(X_test_norm)"
   ]
  },
  {
   "cell_type": "code",
   "execution_count": 13,
   "id": "1b81b492",
   "metadata": {},
   "outputs": [
    {
     "name": "stdout",
     "output_type": "stream",
     "text": [
      "     preg  plas  pres  skin  test  mass   pedi  age  class\n",
      "0       6   148    72    35     0  33.6  0.627   50      1\n",
      "1       1    85    66    29     0  26.6  0.351   31      0\n",
      "2       8   183    64     0     0  23.3  0.672   32      1\n",
      "3       1    89    66    23    94  28.1  0.167   21      0\n",
      "4       0   137    40    35   168  43.1  2.288   33      1\n",
      "..    ...   ...   ...   ...   ...   ...    ...  ...    ...\n",
      "763    10   101    76    48   180  32.9  0.171   63      0\n",
      "764     2   122    70    27     0  36.8  0.340   27      0\n",
      "765     5   121    72    23   112  26.2  0.245   30      0\n",
      "766     1   126    60     0     0  30.1  0.349   47      1\n",
      "767     1    93    70    31     0  30.4  0.315   23      0\n",
      "\n",
      "[768 rows x 9 columns]\n",
      "\n",
      "[[1. 1. 1. 1. 0. 1. 1. 1.]\n",
      " [1. 1. 1. 0. 0. 1. 1. 1.]\n",
      " [1. 1. 1. 1. 1. 1. 1. 1.]\n",
      " [0. 1. 1. 1. 1. 1. 1. 1.]\n",
      " [1. 1. 1. 0. 0. 1. 1. 1.]\n",
      " [1. 1. 1. 1. 1. 1. 1. 1.]\n",
      " [1. 1. 0. 0. 0. 1. 1. 1.]\n",
      " [1. 1. 1. 1. 1. 1. 1. 1.]\n",
      " [1. 1. 1. 0. 0. 0. 1. 1.]\n",
      " [1. 1. 1. 0. 0. 1. 1. 1.]\n",
      " [1. 1. 1. 0. 0. 1. 1. 1.]\n",
      " [1. 1. 1. 0. 0. 1. 1. 1.]\n",
      " [1. 1. 1. 1. 1. 1. 1. 1.]\n",
      " [1. 1. 1. 1. 1. 1. 1. 1.]\n",
      " [1. 1. 0. 0. 0. 1. 1. 1.]\n",
      " [0. 1. 1. 1. 1. 1. 1. 1.]\n",
      " [1. 1. 1. 0. 0. 1. 1. 1.]\n",
      " [1. 1. 1. 1. 1. 1. 1. 1.]\n",
      " [1. 1. 1. 1. 1. 1. 1. 1.]\n",
      " [1. 1. 1. 1. 1. 1. 1. 1.]\n",
      " [1. 1. 1. 0. 0. 1. 1. 1.]\n",
      " [1. 1. 1. 0. 0. 1. 1. 1.]\n",
      " [1. 1. 1. 1. 0. 1. 1. 1.]\n",
      " [1. 1. 1. 1. 1. 1. 1. 1.]\n",
      " [1. 1. 1. 1. 1. 1. 1. 1.]\n",
      " [1. 1. 1. 0. 0. 1. 1. 1.]\n",
      " [1. 1. 1. 1. 1. 1. 1. 1.]\n",
      " [1. 1. 1. 1. 1. 1. 1. 1.]\n",
      " [1. 1. 1. 0. 0. 1. 1. 1.]\n",
      " [1. 1. 1. 1. 0. 1. 1. 1.]\n",
      " [1. 1. 1. 1. 1. 1. 1. 1.]\n",
      " [1. 1. 1. 1. 1. 1. 1. 1.]\n",
      " [1. 1. 1. 0. 0. 1. 1. 1.]\n",
      " [1. 1. 1. 1. 0. 1. 1. 1.]\n",
      " [1. 1. 1. 1. 1. 1. 1. 1.]\n",
      " [1. 1. 1. 0. 0. 1. 1. 1.]\n",
      " [1. 1. 1. 1. 0. 1. 1. 1.]\n",
      " [1. 1. 1. 1. 0. 1. 1. 1.]\n",
      " [1. 1. 1. 1. 1. 1. 1. 1.]\n",
      " [1. 1. 1. 1. 1. 1. 1. 1.]\n",
      " [1. 1. 1. 0. 0. 1. 1. 1.]\n",
      " [1. 1. 1. 1. 0. 1. 1. 1.]\n",
      " [1. 1. 1. 1. 1. 1. 1. 1.]\n",
      " [1. 1. 1. 0. 0. 1. 1. 1.]\n",
      " [0. 1. 1. 1. 0. 1. 1. 1.]\n",
      " [1. 1. 1. 0. 0. 1. 1. 1.]\n",
      " [1. 1. 1. 1. 0. 1. 1. 1.]\n",
      " [1. 1. 1. 1. 0. 1. 1. 1.]\n",
      " [1. 1. 0. 0. 0. 0. 1. 1.]\n",
      " [1. 1. 1. 1. 1. 1. 1. 1.]\n",
      " [1. 1. 1. 1. 1. 1. 1. 1.]\n",
      " [1. 1. 1. 1. 1. 1. 1. 1.]\n",
      " [1. 1. 1. 1. 1. 1. 1. 1.]\n",
      " [1. 1. 1. 1. 1. 1. 1. 1.]\n",
      " [1. 1. 1. 1. 0. 1. 1. 1.]\n",
      " [1. 1. 1. 1. 1. 1. 1. 1.]\n",
      " [0. 1. 1. 1. 1. 1. 1. 1.]\n",
      " [0. 1. 1. 0. 0. 1. 1. 1.]\n",
      " [0. 1. 1. 1. 1. 1. 1. 1.]\n",
      " [1. 1. 0. 0. 0. 0. 1. 1.]\n",
      " [1. 1. 1. 0. 0. 1. 1. 1.]\n",
      " [1. 1. 1. 0. 0. 1. 1. 1.]\n",
      " [1. 1. 1. 1. 1. 1. 1. 1.]\n",
      " [1. 1. 1. 0. 0. 1. 1. 1.]\n",
      " [1. 1. 1. 1. 0. 1. 1. 1.]\n",
      " [0. 1. 1. 1. 0. 1. 1. 1.]\n",
      " [1. 1. 1. 0. 0. 1. 1. 1.]\n",
      " [1. 1. 1. 1. 1. 1. 1. 1.]\n",
      " [1. 1. 1. 1. 1. 1. 1. 1.]\n",
      " [1. 1. 1. 1. 1. 1. 1. 1.]\n",
      " [1. 1. 1. 1. 1. 1. 1. 1.]\n",
      " [1. 1. 1. 0. 0. 1. 1. 1.]\n",
      " [1. 1. 1. 1. 1. 1. 1. 1.]\n",
      " [1. 1. 1. 1. 0. 1. 1. 1.]\n",
      " [1. 0. 1. 1. 0. 1. 1. 1.]\n",
      " [1. 1. 1. 0. 0. 1. 1. 1.]\n",
      " [1. 1. 1. 1. 0. 1. 1. 1.]\n",
      " [0. 1. 0. 0. 0. 1. 1. 1.]\n",
      " [1. 1. 1. 1. 0. 1. 1. 1.]\n",
      " [1. 1. 1. 1. 0. 1. 1. 1.]\n",
      " [1. 1. 0. 0. 0. 0. 1. 1.]\n",
      " [1. 1. 1. 1. 1. 1. 1. 1.]\n",
      " [0. 1. 1. 1. 0. 1. 1. 1.]\n",
      " [1. 1. 1. 0. 0. 1. 1. 1.]\n",
      " [1. 1. 1. 1. 1. 1. 1. 1.]\n",
      " [1. 1. 1. 1. 0. 1. 1. 1.]\n",
      " [1. 1. 1. 1. 1. 1. 1. 1.]\n",
      " [1. 1. 1. 1. 1. 1. 1. 1.]\n",
      " [1. 1. 1. 1. 0. 1. 1. 1.]\n",
      " [1. 1. 1. 0. 0. 1. 1. 1.]\n",
      " [1. 1. 1. 1. 1. 1. 1. 1.]\n",
      " [1. 1. 1. 1. 1. 1. 1. 1.]\n",
      " [1. 1. 1. 0. 0. 1. 1. 1.]\n",
      " [1. 1. 1. 1. 1. 1. 1. 1.]\n",
      " [1. 1. 1. 1. 1. 1. 1. 1.]\n",
      " [1. 1. 1. 1. 0. 1. 1. 1.]\n",
      " [1. 1. 1. 1. 1. 1. 1. 1.]\n",
      " [1. 1. 1. 1. 1. 1. 1. 1.]\n",
      " [1. 1. 1. 1. 1. 1. 1. 1.]]\n"
     ]
    }
   ],
   "source": [
    "from sklearn.preprocessing import Binarizer\n",
    "import pandas\n",
    "import numpy as np\n",
    "url = \"https://raw.githubusercontent.com/jbrownlee/Datasets/master/pima-indians-diabetes.csv\"\n",
    "colnames = ['preg', 'plas', 'pres', 'skin', 'test', 'mass', 'pedi', 'age', 'class']\n",
    "data = pandas.read_csv(url,names=colnames)\n",
    "print(data)\n",
    "print()\n",
    "array = data.values\n",
    "array2 = data.columns\n",
    "X = array[:,0:8]\n",
    "Y = array[:,8]\n",
    "binarizer = Binarizer(threshold=0.0)\n",
    "binaryX = binarizer.fit_transform(X)\n",
    "np.printoptions(precision=4)\n",
    "print(binaryX[1:100,:])"
   ]
  },
  {
   "cell_type": "code",
   "execution_count": 15,
   "id": "cdaf016e",
   "metadata": {},
   "outputs": [
    {
     "name": "stdout",
     "output_type": "stream",
     "text": [
      "[[ 0.63994726  0.84832379  0.14964075  0.90726993 -0.69289057  0.20401277\n",
      "   0.46849198  1.4259954 ]\n",
      " [-0.84488505 -1.12339636 -0.16054575  0.53090156 -0.69289057 -0.68442195\n",
      "  -0.36506078 -0.19067191]\n",
      " [ 1.23388019  1.94372388 -0.26394125 -1.28821221 -0.69289057 -1.10325546\n",
      "   0.60439732 -0.10558415]\n",
      " [-0.84488505 -0.99820778 -0.16054575  0.15453319  0.12330164 -0.49404308\n",
      "  -0.92076261 -1.04154944]\n",
      " [-1.14185152  0.5040552  -1.50468724  0.90726993  0.76583594  1.4097456\n",
      "   5.4849091  -0.0204964 ]\n",
      " [ 0.3429808  -0.15318486  0.25303625 -1.28821221 -0.69289057 -0.81134119\n",
      "  -0.81807858 -0.27575966]\n",
      " [-0.25095213 -1.34247638 -0.98770975  0.71908574  0.07120427 -0.12597727\n",
      "  -0.676133   -0.61611067]\n",
      " [ 1.82781311 -0.184482   -3.57259724 -1.28821221 -0.69289057  0.41977549\n",
      "  -1.02042653 -0.36084741]\n",
      " [-0.54791859  2.38188392  0.04624525  1.53455054  4.02192191 -0.18943689\n",
      "  -0.94794368  1.68125866]\n",
      " [ 1.23388019  0.12848945  1.39038675 -1.28821221 -0.69289057 -4.06047387\n",
      "  -0.7244549   1.76634642]]\n"
     ]
    }
   ],
   "source": [
    "from sklearn.preprocessing import StandardScaler\n",
    "scaler = StandardScaler()\n",
    "rescaledX = scaler.fit_transform(X)\n",
    "print(rescaledX[0:10,:])"
   ]
  },
  {
   "cell_type": "markdown",
   "id": "38293ca3",
   "metadata": {},
   "source": [
    "**Experiment :-4**"
   ]
  },
  {
   "cell_type": "code",
   "execution_count": 3,
   "id": "7a1a47f6",
   "metadata": {},
   "outputs": [
    {
     "name": "stdout",
     "output_type": "stream",
     "text": [
      "smoker  Yes  No\n",
      "sex            \n",
      "Male     60  97\n",
      "Female   33  54\n",
      "observed_values:-\n",
      " [[60 97]\n",
      " [33 54]]\n",
      "Retain H0,There is no relationship between 2 categorical variables\n",
      "Retain H0,There is no relationship between 2 categorical variables\n"
     ]
    }
   ],
   "source": [
    "import seaborn as sns\n",
    "import numpy as np\n",
    "import pandas as pd\n",
    "import scipy.stats as stats\n",
    "dataset = sns.load_dataset('tips')\n",
    "dataset_table = pd.crosstab(dataset['sex'],dataset['smoker'])\n",
    "print(dataset_table)\n",
    "observed_values = dataset_table.values\n",
    "print('observed_values:-\\n',observed_values)\n",
    "val = stats.chi2_contingency(dataset_table)\n",
    "expected_values = val[3]\n",
    "no_of_rows = len(dataset_table.iloc[0:2,0])\n",
    "no_of_cols = len(dataset_table.iloc[0,0:2])\n",
    "ddof = (no_of_rows -1 ) * (no_of_cols - 1)\n",
    "\n",
    "chi_square = sum([(o-e)**2/e for o,e in zip(observed_values,expected_values)])\n",
    "chi_square_statistic = chi_square[0] + chi_square[1]\n",
    "alpha = 0.5\n",
    "\n",
    "critical_value = stats.chi2.ppf(q=1-alpha,df=ddof)\n",
    "p_value = 1-stats.chi2.cdf(x=chi_square_statistic,df=ddof)\n",
    "\n",
    "\n",
    "if chi_square_statistic >= critical_value:\n",
    "    print('Reject H0, There is a relationship between 2 categorical variables')\n",
    "else:\n",
    "    print('Retain H0,There is no relationship between 2 categorical variables')\n",
    "    \n",
    "if p_value <= alpha:\n",
    "    print('Reject H0, There is a relationship between 2 categorical variables')\n",
    "else:\n",
    "    print('Retain H0,There is no relationship between 2 categorical variables')"
   ]
  },
  {
   "cell_type": "markdown",
   "id": "44ccacf9",
   "metadata": {},
   "source": [
    "**Experiment :-7**"
   ]
  },
  {
   "cell_type": "code",
   "execution_count": 3,
   "id": "2054a251",
   "metadata": {},
   "outputs": [
    {
     "data": {
      "text/plain": [
       "<matplotlib.collections.PathCollection at 0x29413c74fd0>"
      ]
     },
     "execution_count": 3,
     "metadata": {},
     "output_type": "execute_result"
    },
    {
     "data": {
      "image/png": "[encoded data removed]",
      "text/plain": [
       "<Figure size 640x480 with 1 Axes>"
      ]
     },
     "metadata": {},
     "output_type": "display_data"
    }
   ],
   "source": [
    "from sklearn.datasets import make_classification\n",
    "import matplotlib.pyplot as plt\n",
    "\n",
    "X,y = make_classification(\n",
    "    n_features = 6,\n",
    "    n_classes = 3,\n",
    "    n_samples = 800,\n",
    "    n_informative = 2,\n",
    "    random_state = 1,\n",
    "    n_clusters_per_class = 1,\n",
    ")\n",
    "\n",
    "plt.scatter(X[:,0],X[:,1],c=y,marker = \"*\")"
   ]
  },
  {
   "cell_type": "code",
   "execution_count": 8,
   "id": "1ba39005",
   "metadata": {},
   "outputs": [
    {
     "name": "stdout",
     "output_type": "stream",
     "text": [
      "Actual Value  0\n",
      "Predicted Value 0\n"
     ]
    }
   ],
   "source": [
    "from sklearn.model_selection import train_test_split\n",
    "from sklearn.naive_bayes import GaussianNB\n",
    "X_train,X_test,y_train,y_test = train_test_split(\n",
    "    X,y,test_size = 0.333, random_state = 125\n",
    ")\n",
    "model = GaussianNB()\n",
    "model.fit(X_train,y_train)\n",
    "predicted = model.predict([X_test[6]])\n",
    "print(\"Actual Value \",y_test[6])\n",
    "print(\"Predicted Value\",predicted[0])"
   ]
  },
  {
   "cell_type": "code",
   "execution_count": 11,
   "id": "3c19e076",
   "metadata": {},
   "outputs": [
    {
     "name": "stdout",
     "output_type": "stream",
     "text": [
      "Accuracy: 0.850187265917603\n",
      "F1 Score: 0.8507702075803357\n"
     ]
    }
   ],
   "source": [
    "from sklearn.metrics import ( \n",
    "accuracy_score, \n",
    "confusion_matrix, \n",
    "ConfusionMatrixDisplay, \n",
    "f1_score, \n",
    ") \n",
    "y_pred = model.predict(X_test) \n",
    "accuray = accuracy_score(y_pred, y_test) \n",
    "f1 = f1_score(y_pred, y_test, average=\"weighted\") \n",
    "print(\"Accuracy:\", accuray) \n",
    "print(\"F1 Score:\", f1) "
   ]
  },
  {
   "cell_type": "code",
   "execution_count": 12,
   "id": "2494b4f8",
   "metadata": {},
   "outputs": [
    {
     "data": {
      "image/png": "[encoded data removed]",
      "text/plain": [
       "<Figure size 640x480 with 2 Axes>"
      ]
     },
     "metadata": {},
     "output_type": "display_data"
    }
   ],
   "source": [
    "labels = [0,1,2] \n",
    "cm = confusion_matrix(y_test, y_pred, labels=labels) \n",
    "disp = ConfusionMatrixDisplay(confusion_matrix=cm, display_labels=labels) \n",
    "disp.plot();"
   ]
  },
  {
   "cell_type": "markdown",
   "id": "e6388935",
   "metadata": {},
   "source": [
    "**Experiment : 9**"
   ]
  },
  {
   "cell_type": "code",
   "execution_count": 7,
   "id": "0bdd680e",
   "metadata": {},
   "outputs": [
    {
     "name": "stdout",
     "output_type": "stream",
     "text": [
      "     sepal length (cm)  sepal width (cm)  petal length (cm)  petal width (cm)\n",
      "0                  5.1               3.5                1.4               0.2\n",
      "1                  4.9               3.0                1.4               0.2\n",
      "2                  4.7               3.2                1.3               0.2\n",
      "3                  4.6               3.1                1.5               0.2\n",
      "4                  5.0               3.6                1.4               0.2\n",
      "..                 ...               ...                ...               ...\n",
      "145                6.7               3.0                5.2               2.3\n",
      "146                6.3               2.5                5.0               1.9\n",
      "147                6.5               3.0                5.2               2.0\n",
      "148                6.2               3.4                5.4               2.3\n",
      "149                5.9               3.0                5.1               1.8\n",
      "\n",
      "[150 rows x 4 columns]\n"
     ]
    },
    {
     "data": {
      "text/plain": [
       "<matplotlib.legend.Legend at 0x26e0b906310>"
      ]
     },
     "execution_count": 7,
     "metadata": {},
     "output_type": "execute_result"
    },
    {
     "data": {
      "image/png": "[encoded data removed]",
      "text/plain": [
       "<Figure size 640x480 with 1 Axes>"
      ]
     },
     "metadata": {},
     "output_type": "display_data"
    }
   ],
   "source": [
    "import numpy as np\n",
    "import pandas as pd\n",
    "import matplotlib.pyplot as plt\n",
    "from sklearn import datasets\n",
    "from sklearn.cluster import KMeans\n",
    "iris = datasets.load_iris()\n",
    "data = pd.DataFrame(iris.data,columns =iris.feature_names)\n",
    "print(data)\n",
    "x = data.iloc[:,0:3].values\n",
    "kmeans = KMeans(n_clusters=3,init='k-means++',max_iter=100,n_init=10,random_state=0)\n",
    "y_kmeans = kmeans.fit_predict(x)\n",
    "plt.scatter(x[y_kmeans==0,0],x[y_kmeans == 0,1],s=7,c='yellow',label='Iris-Setosa')\n",
    "plt.scatter(x[y_kmeans==1,0],x[y_kmeans == 1,1],s=7,c='blue',label='Iris-versicolor')\n",
    "plt.scatter(x[y_kmeans==2,0],x[y_kmeans == 2,1],s=7,c='green',label='Iris-Verginica')\n",
    "plt.scatter(kmeans.cluster_centers_[:,0],kmeans.cluster_centers_[:,1],s=50,c='red',label='Centroids')\n",
    "plt.legend()"
   ]
  },
  {
   "cell_type": "markdown",
   "id": "89f6b5c4",
   "metadata": {},
   "source": [
    "**Experiment:-10**"
   ]
  },
  {
   "cell_type": "code",
   "execution_count": 8,
   "id": "6a29df50",
   "metadata": {},
   "outputs": [
    {
     "name": "stdout",
     "output_type": "stream",
     "text": [
      "Collecting apyori\n",
      "  Downloading apyori-1.1.2.tar.gz (8.6 kB)\n",
      "  Preparing metadata (setup.py): started\n",
      "  Preparing metadata (setup.py): finished with status 'done'\n",
      "Building wheels for collected packages: apyori\n",
      "  Building wheel for apyori (setup.py): started\n",
      "  Building wheel for apyori (setup.py): finished with status 'done'\n",
      "  Created wheel for apyori: filename=apyori-1.1.2-py3-none-any.whl size=5955 sha256=24d9723855dfaea4ddc29a4ccb90dd65159a57303631ebcf2158044c8a6feb3d\n",
      "  Stored in directory: c:\\users\\kkndc\\appdata\\local\\pip\\cache\\wheels\\32\\2a\\54\\10c595515f385f3726642b10c60bf788029e8f3a1323e3913a\n",
      "Successfully built apyori\n",
      "Installing collected packages: apyori\n",
      "Successfully installed apyori-1.1.2\n",
      "Note: you may need to restart the kernel to use updated packages.\n"
     ]
    }
   ],
   "source": [
    "pip install apyori"
   ]
  },
  {
   "cell_type": "code",
   "execution_count": 17,
   "id": "9e3ebd10",
   "metadata": {},
   "outputs": [
    {
     "name": "stdout",
     "output_type": "stream",
     "text": [
      "[RelationRecord(items=frozenset({'A'}), support=0.5714285714285714, ordered_statistics=[OrderedStatistic(items_base=frozenset(), items_add=frozenset({'A'}), confidence=0.5714285714285714, lift=1.0)]), RelationRecord(items=frozenset({'Female'}), support=0.5714285714285714, ordered_statistics=[OrderedStatistic(items_base=frozenset(), items_add=frozenset({'Female'}), confidence=0.5714285714285714, lift=1.0)]), RelationRecord(items=frozenset({'Normal'}), support=0.5238095238095238, ordered_statistics=[OrderedStatistic(items_base=frozenset(), items_add=frozenset({'Normal'}), confidence=0.5238095238095238, lift=1.0)]), RelationRecord(items=frozenset({'Yangon'}), support=0.5714285714285714, ordered_statistics=[OrderedStatistic(items_base=frozenset(), items_add=frozenset({'Yangon'}), confidence=0.5714285714285714, lift=1.0)]), RelationRecord(items=frozenset({'Yangon', 'A'}), support=0.5714285714285714, ordered_statistics=[OrderedStatistic(items_base=frozenset(), items_add=frozenset({'Yangon', 'A'}), confidence=0.5714285714285714, lift=1.0), OrderedStatistic(items_base=frozenset({'A'}), items_add=frozenset({'Yangon'}), confidence=1.0, lift=1.75), OrderedStatistic(items_base=frozenset({'Yangon'}), items_add=frozenset({'A'}), confidence=1.0, lift=1.75)])]\n",
      "5\n"
     ]
    }
   ],
   "source": [
    "import numpy as np\n",
    "import pandas as pd\n",
    "from apyori import apriori\n",
    "data = pd.read_csv(r'C:\\Users\\kkndc\\Downloads\\supermarket_sales.csv')\n",
    "#data.shape\n",
    "records = []\n",
    "for i in range(0,21):\n",
    "    records.append([str(data.values[i,j]) for j in range(0,6)])\n",
    "ass_rules = apriori(records,min_support=0.5,confidence=0.7)\n",
    "results=list(ass_rules)\n",
    "print(results)\n",
    "print(len(results))"
   ]
  },
  {
   "cell_type": "markdown",
   "id": "bb61e55d",
   "metadata": {},
   "source": [
    "**Experiment :- 11**"
   ]
  },
  {
   "cell_type": "code",
   "execution_count": 18,
   "id": "fffbc31a",
   "metadata": {},
   "outputs": [
    {
     "name": "stdout",
     "output_type": "stream",
     "text": [
      "Collecting pyfpgrowth\n",
      "  Downloading pyfpgrowth-1.0.tar.gz (1.6 MB)\n",
      "     ---------------------------------------- 1.6/1.6 MB 1.1 MB/s eta 0:00:00\n",
      "  Preparing metadata (setup.py): started\n",
      "  Preparing metadata (setup.py): finished with status 'done'\n",
      "Building wheels for collected packages: pyfpgrowth\n",
      "  Building wheel for pyfpgrowth (setup.py): started\n",
      "  Building wheel for pyfpgrowth (setup.py): finished with status 'done'\n",
      "  Created wheel for pyfpgrowth: filename=pyfpgrowth-1.0-py2.py3-none-any.whl size=5488 sha256=af162f5eaa8b8596be3f08b766c10171a411e874b804cb48f7eecd869b2bb7e8\n",
      "  Stored in directory: c:\\users\\kkndc\\appdata\\local\\pip\\cache\\wheels\\1d\\15\\f3\\26c63bd6040ea8f62d59dba0b4fe4dffe551a0f93879734a91\n",
      "Successfully built pyfpgrowth\n",
      "Installing collected packages: pyfpgrowth\n",
      "Successfully installed pyfpgrowth-1.0\n",
      "Note: you may need to restart the kernel to use updated packages.\n"
     ]
    }
   ],
   "source": [
    "pip install pyfpgrowth"
   ]
  },
  {
   "cell_type": "code",
   "execution_count": 22,
   "id": "5e2ab617",
   "metadata": {},
   "outputs": [
    {
     "name": "stdout",
     "output_type": "stream",
     "text": [
      "{('Milk',): 2, ('Milk', 'Saffron'): 2, ('Bread', 'Milk'): 1, ('Bread', 'Milk', 'Saffron'): 1, ('Water',): 2, ('Saffron', 'Water'): 1, ('Bread', 'Water'): 2, ('Bread', 'Saffron', 'Water'): 1, ('Bread',): 3, ('Saffron',): 3, ('Bread', 'Saffron'): 2}\n",
      "{('Milk',): (('Bread', 'Saffron'), 0.5), ('Saffron',): (('Bread',), 0.6666666666666666), ('Bread', 'Milk'): (('Saffron',), 1.0), ('Bread', 'Saffron'): (('Water',), 0.5), ('Milk', 'Saffron'): (('Bread',), 0.5), ('Water',): (('Bread', 'Saffron'), 0.5), ('Bread',): (('Saffron',), 0.6666666666666666), ('Bread', 'Water'): (('Saffron',), 0.5), ('Saffron', 'Water'): (('Bread',), 1.0)}\n"
     ]
    }
   ],
   "source": [
    "import pyfpgrowth\n",
    "transactions =[\n",
    "    ['Bread','Milk','Saffron'],\n",
    "    ['Milk','Saffron'],\n",
    "    ['Bread','Saffron','Water'],\n",
    "    ['Bread','Water']\n",
    "]\n",
    "FrequentPatterns = pyfpgrowth.find_frequent_patterns(transactions=transactions,support_threshold=0.5)\n",
    "print(FrequentPatterns)\n",
    "Rules = pyfpgrowth.generate_association_rules(patterns=FrequentPatterns,confidence_threshold=0.5)\n",
    "print(Rules)"
   ]
  },
  {
   "cell_type": "markdown",
   "id": "30e2f919",
   "metadata": {},
   "source": [
    "**Experiment :-12**"
   ]
  },
  {
   "cell_type": "code",
   "execution_count": 25,
   "id": "3c5984c9",
   "metadata": {},
   "outputs": [
    {
     "data": {
      "image/png": "[encoded data removed]",
      "text/plain": [
       "<Figure size 640x480 with 1 Axes>"
      ]
     },
     "metadata": {},
     "output_type": "display_data"
    }
   ],
   "source": [
    "import numpy as np\n",
    "import matplotlib.pyplot as plt\n",
    "np_data = np.random.randn(1000)\n",
    "plt.hist(np_data, facecolor='red', edgecolor='blue', bins=10)\n",
    "plt.show()\n"
   ]
  },
  {
   "cell_type": "code",
   "execution_count": 26,
   "id": "07033121",
   "metadata": {},
   "outputs": [
    {
     "data": {
      "image/png": "[encoded data removed]",
      "text/plain": [
       "<Figure size 500x400 with 1 Axes>"
      ]
     },
     "metadata": {},
     "output_type": "display_data"
    }
   ],
   "source": [
    "import matplotlib.pyplot as plt\n",
    "import numpy as np\n",
    "# Creating a dataset\n",
    "np.random.seed(10)\n",
    "data=np.random.normal(100,20,200)\n",
    "fig=plt.figure(figsize=(5,4))\n",
    "plt.boxplot(data)\n",
    "plt.show()\n"
   ]
  },
  {
   "cell_type": "code",
   "execution_count": 27,
   "id": "a5c64ac1",
   "metadata": {},
   "outputs": [
    {
     "ename": "FileNotFoundError",
     "evalue": "[Errno 2] No such file or directory: '/content/iris.csv'",
     "output_type": "error",
     "traceback": [
      "\u001b[1;31m---------------------------------------------------------------------------\u001b[0m",
      "\u001b[1;31mFileNotFoundError\u001b[0m                         Traceback (most recent call last)",
      "\u001b[1;32m~\\AppData\\Local\\Temp\\ipykernel_3796\\3799087961.py\u001b[0m in \u001b[0;36m<module>\u001b[1;34m\u001b[0m\n\u001b[0;32m      1\u001b[0m \u001b[1;32mimport\u001b[0m \u001b[0mpandas\u001b[0m \u001b[1;32mas\u001b[0m \u001b[0mpd\u001b[0m\u001b[1;33m\u001b[0m\u001b[1;33m\u001b[0m\u001b[0m\n\u001b[0;32m      2\u001b[0m \u001b[1;32mimport\u001b[0m \u001b[0mmatplotlib\u001b[0m\u001b[1;33m.\u001b[0m\u001b[0mpyplot\u001b[0m \u001b[1;32mas\u001b[0m \u001b[0mplt\u001b[0m\u001b[1;33m\u001b[0m\u001b[1;33m\u001b[0m\u001b[0m\n\u001b[1;32m----> 3\u001b[1;33m \u001b[0miris\u001b[0m \u001b[1;33m=\u001b[0m \u001b[0mpd\u001b[0m\u001b[1;33m.\u001b[0m\u001b[0mread_csv\u001b[0m\u001b[1;33m(\u001b[0m\u001b[1;34m\"/content/iris.csv\"\u001b[0m\u001b[1;33m)\u001b[0m\u001b[1;33m\u001b[0m\u001b[1;33m\u001b[0m\u001b[0m\n\u001b[0m\u001b[0;32m      4\u001b[0m \u001b[0max\u001b[0m\u001b[1;33m=\u001b[0m\u001b[0mplt\u001b[0m\u001b[1;33m.\u001b[0m\u001b[0msubplots\u001b[0m\u001b[1;33m(\u001b[0m\u001b[1;36m1\u001b[0m\u001b[1;33m,\u001b[0m\u001b[1;36m1\u001b[0m\u001b[1;33m,\u001b[0m\u001b[0mfigsize\u001b[0m\u001b[1;33m=\u001b[0m\u001b[1;33m(\u001b[0m\u001b[1;36m10\u001b[0m\u001b[1;33m,\u001b[0m\u001b[1;36m8\u001b[0m\u001b[1;33m)\u001b[0m\u001b[1;33m)\u001b[0m\u001b[1;33m\u001b[0m\u001b[1;33m\u001b[0m\u001b[0m\n\u001b[0;32m      5\u001b[0m \u001b[0miris\u001b[0m\u001b[1;33m[\u001b[0m\u001b[1;34m'species'\u001b[0m\u001b[1;33m]\u001b[0m\u001b[1;33m.\u001b[0m\u001b[0mvalue_counts\u001b[0m\u001b[1;33m(\u001b[0m\u001b[1;33m)\u001b[0m\u001b[1;33m.\u001b[0m\u001b[0mplot\u001b[0m\u001b[1;33m.\u001b[0m\u001b[0mpie\u001b[0m\u001b[1;33m(\u001b[0m\u001b[0mexplode\u001b[0m\u001b[1;33m=\u001b[0m\u001b[1;33m[\u001b[0m\u001b[1;36m0.1\u001b[0m\u001b[1;33m,\u001b[0m\u001b[1;36m0.1\u001b[0m\u001b[1;33m,\u001b[0m\u001b[1;36m0.1\u001b[0m\u001b[1;33m]\u001b[0m\u001b[1;33m,\u001b[0m\u001b[0mautopct\u001b[0m\u001b[1;33m=\u001b[0m\u001b[1;34m'%1.1f%%'\u001b[0m\u001b[1;33m,\u001b[0m\u001b[0mshadow\u001b[0m\u001b[1;33m=\u001b[0m\u001b[1;32mTrue\u001b[0m\u001b[1;33m,\u001b[0m\u001b[0mfigsize\u001b[0m\u001b[1;33m=\u001b[0m\u001b[1;33m(\u001b[0m\u001b[1;36m6\u001b[0m\u001b[1;33m,\u001b[0m\u001b[1;36m5\u001b[0m\u001b[1;33m)\u001b[0m\u001b[1;33m)\u001b[0m\u001b[1;33m\u001b[0m\u001b[1;33m\u001b[0m\u001b[0m\n",
      "\u001b[1;32m~\\anaconda3\\lib\\site-packages\\pandas\\util\\_decorators.py\u001b[0m in \u001b[0;36mwrapper\u001b[1;34m(*args, **kwargs)\u001b[0m\n\u001b[0;32m    309\u001b[0m                     \u001b[0mstacklevel\u001b[0m\u001b[1;33m=\u001b[0m\u001b[0mstacklevel\u001b[0m\u001b[1;33m,\u001b[0m\u001b[1;33m\u001b[0m\u001b[1;33m\u001b[0m\u001b[0m\n\u001b[0;32m    310\u001b[0m                 )\n\u001b[1;32m--> 311\u001b[1;33m             \u001b[1;32mreturn\u001b[0m \u001b[0mfunc\u001b[0m\u001b[1;33m(\u001b[0m\u001b[1;33m*\u001b[0m\u001b[0margs\u001b[0m\u001b[1;33m,\u001b[0m \u001b[1;33m**\u001b[0m\u001b[0mkwargs\u001b[0m\u001b[1;33m)\u001b[0m\u001b[1;33m\u001b[0m\u001b[1;33m\u001b[0m\u001b[0m\n\u001b[0m\u001b[0;32m    312\u001b[0m \u001b[1;33m\u001b[0m\u001b[0m\n\u001b[0;32m    313\u001b[0m         \u001b[1;32mreturn\u001b[0m \u001b[0mwrapper\u001b[0m\u001b[1;33m\u001b[0m\u001b[1;33m\u001b[0m\u001b[0m\n",
      "\u001b[1;32m~\\anaconda3\\lib\\site-packages\\pandas\\io\\parsers\\readers.py\u001b[0m in \u001b[0;36mread_csv\u001b[1;34m(filepath_or_buffer, sep, delimiter, header, names, index_col, usecols, squeeze, prefix, mangle_dupe_cols, dtype, engine, converters, true_values, false_values, skipinitialspace, skiprows, skipfooter, nrows, na_values, keep_default_na, na_filter, verbose, skip_blank_lines, parse_dates, infer_datetime_format, keep_date_col, date_parser, dayfirst, cache_dates, iterator, chunksize, compression, thousands, decimal, lineterminator, quotechar, quoting, doublequote, escapechar, comment, encoding, encoding_errors, dialect, error_bad_lines, warn_bad_lines, on_bad_lines, delim_whitespace, low_memory, memory_map, float_precision, storage_options)\u001b[0m\n\u001b[0;32m    676\u001b[0m     \u001b[0mkwds\u001b[0m\u001b[1;33m.\u001b[0m\u001b[0mupdate\u001b[0m\u001b[1;33m(\u001b[0m\u001b[0mkwds_defaults\u001b[0m\u001b[1;33m)\u001b[0m\u001b[1;33m\u001b[0m\u001b[1;33m\u001b[0m\u001b[0m\n\u001b[0;32m    677\u001b[0m \u001b[1;33m\u001b[0m\u001b[0m\n\u001b[1;32m--> 678\u001b[1;33m     \u001b[1;32mreturn\u001b[0m \u001b[0m_read\u001b[0m\u001b[1;33m(\u001b[0m\u001b[0mfilepath_or_buffer\u001b[0m\u001b[1;33m,\u001b[0m \u001b[0mkwds\u001b[0m\u001b[1;33m)\u001b[0m\u001b[1;33m\u001b[0m\u001b[1;33m\u001b[0m\u001b[0m\n\u001b[0m\u001b[0;32m    679\u001b[0m \u001b[1;33m\u001b[0m\u001b[0m\n\u001b[0;32m    680\u001b[0m \u001b[1;33m\u001b[0m\u001b[0m\n",
      "\u001b[1;32m~\\anaconda3\\lib\\site-packages\\pandas\\io\\parsers\\readers.py\u001b[0m in \u001b[0;36m_read\u001b[1;34m(filepath_or_buffer, kwds)\u001b[0m\n\u001b[0;32m    573\u001b[0m \u001b[1;33m\u001b[0m\u001b[0m\n\u001b[0;32m    574\u001b[0m     \u001b[1;31m# Create the parser.\u001b[0m\u001b[1;33m\u001b[0m\u001b[1;33m\u001b[0m\u001b[0m\n\u001b[1;32m--> 575\u001b[1;33m     \u001b[0mparser\u001b[0m \u001b[1;33m=\u001b[0m \u001b[0mTextFileReader\u001b[0m\u001b[1;33m(\u001b[0m\u001b[0mfilepath_or_buffer\u001b[0m\u001b[1;33m,\u001b[0m \u001b[1;33m**\u001b[0m\u001b[0mkwds\u001b[0m\u001b[1;33m)\u001b[0m\u001b[1;33m\u001b[0m\u001b[1;33m\u001b[0m\u001b[0m\n\u001b[0m\u001b[0;32m    576\u001b[0m \u001b[1;33m\u001b[0m\u001b[0m\n\u001b[0;32m    577\u001b[0m     \u001b[1;32mif\u001b[0m \u001b[0mchunksize\u001b[0m \u001b[1;32mor\u001b[0m \u001b[0miterator\u001b[0m\u001b[1;33m:\u001b[0m\u001b[1;33m\u001b[0m\u001b[1;33m\u001b[0m\u001b[0m\n",
      "\u001b[1;32m~\\anaconda3\\lib\\site-packages\\pandas\\io\\parsers\\readers.py\u001b[0m in \u001b[0;36m__init__\u001b[1;34m(self, f, engine, **kwds)\u001b[0m\n\u001b[0;32m    930\u001b[0m \u001b[1;33m\u001b[0m\u001b[0m\n\u001b[0;32m    931\u001b[0m         \u001b[0mself\u001b[0m\u001b[1;33m.\u001b[0m\u001b[0mhandles\u001b[0m\u001b[1;33m:\u001b[0m \u001b[0mIOHandles\u001b[0m \u001b[1;33m|\u001b[0m \u001b[1;32mNone\u001b[0m \u001b[1;33m=\u001b[0m \u001b[1;32mNone\u001b[0m\u001b[1;33m\u001b[0m\u001b[1;33m\u001b[0m\u001b[0m\n\u001b[1;32m--> 932\u001b[1;33m         \u001b[0mself\u001b[0m\u001b[1;33m.\u001b[0m\u001b[0m_engine\u001b[0m \u001b[1;33m=\u001b[0m \u001b[0mself\u001b[0m\u001b[1;33m.\u001b[0m\u001b[0m_make_engine\u001b[0m\u001b[1;33m(\u001b[0m\u001b[0mf\u001b[0m\u001b[1;33m,\u001b[0m \u001b[0mself\u001b[0m\u001b[1;33m.\u001b[0m\u001b[0mengine\u001b[0m\u001b[1;33m)\u001b[0m\u001b[1;33m\u001b[0m\u001b[1;33m\u001b[0m\u001b[0m\n\u001b[0m\u001b[0;32m    933\u001b[0m \u001b[1;33m\u001b[0m\u001b[0m\n\u001b[0;32m    934\u001b[0m     \u001b[1;32mdef\u001b[0m \u001b[0mclose\u001b[0m\u001b[1;33m(\u001b[0m\u001b[0mself\u001b[0m\u001b[1;33m)\u001b[0m\u001b[1;33m:\u001b[0m\u001b[1;33m\u001b[0m\u001b[1;33m\u001b[0m\u001b[0m\n",
      "\u001b[1;32m~\\anaconda3\\lib\\site-packages\\pandas\\io\\parsers\\readers.py\u001b[0m in \u001b[0;36m_make_engine\u001b[1;34m(self, f, engine)\u001b[0m\n\u001b[0;32m   1214\u001b[0m             \u001b[1;31m# \"Union[str, PathLike[str], ReadCsvBuffer[bytes], ReadCsvBuffer[str]]\"\u001b[0m\u001b[1;33m\u001b[0m\u001b[1;33m\u001b[0m\u001b[0m\n\u001b[0;32m   1215\u001b[0m             \u001b[1;31m# , \"str\", \"bool\", \"Any\", \"Any\", \"Any\", \"Any\", \"Any\"\u001b[0m\u001b[1;33m\u001b[0m\u001b[1;33m\u001b[0m\u001b[0m\n\u001b[1;32m-> 1216\u001b[1;33m             self.handles = get_handle(  # type: ignore[call-overload]\n\u001b[0m\u001b[0;32m   1217\u001b[0m                 \u001b[0mf\u001b[0m\u001b[1;33m,\u001b[0m\u001b[1;33m\u001b[0m\u001b[1;33m\u001b[0m\u001b[0m\n\u001b[0;32m   1218\u001b[0m                 \u001b[0mmode\u001b[0m\u001b[1;33m,\u001b[0m\u001b[1;33m\u001b[0m\u001b[1;33m\u001b[0m\u001b[0m\n",
      "\u001b[1;32m~\\anaconda3\\lib\\site-packages\\pandas\\io\\common.py\u001b[0m in \u001b[0;36mget_handle\u001b[1;34m(path_or_buf, mode, encoding, compression, memory_map, is_text, errors, storage_options)\u001b[0m\n\u001b[0;32m    784\u001b[0m         \u001b[1;32mif\u001b[0m \u001b[0mioargs\u001b[0m\u001b[1;33m.\u001b[0m\u001b[0mencoding\u001b[0m \u001b[1;32mand\u001b[0m \u001b[1;34m\"b\"\u001b[0m \u001b[1;32mnot\u001b[0m \u001b[1;32min\u001b[0m \u001b[0mioargs\u001b[0m\u001b[1;33m.\u001b[0m\u001b[0mmode\u001b[0m\u001b[1;33m:\u001b[0m\u001b[1;33m\u001b[0m\u001b[1;33m\u001b[0m\u001b[0m\n\u001b[0;32m    785\u001b[0m             \u001b[1;31m# Encoding\u001b[0m\u001b[1;33m\u001b[0m\u001b[1;33m\u001b[0m\u001b[0m\n\u001b[1;32m--> 786\u001b[1;33m             handle = open(\n\u001b[0m\u001b[0;32m    787\u001b[0m                 \u001b[0mhandle\u001b[0m\u001b[1;33m,\u001b[0m\u001b[1;33m\u001b[0m\u001b[1;33m\u001b[0m\u001b[0m\n\u001b[0;32m    788\u001b[0m                 \u001b[0mioargs\u001b[0m\u001b[1;33m.\u001b[0m\u001b[0mmode\u001b[0m\u001b[1;33m,\u001b[0m\u001b[1;33m\u001b[0m\u001b[1;33m\u001b[0m\u001b[0m\n",
      "\u001b[1;31mFileNotFoundError\u001b[0m: [Errno 2] No such file or directory: '/content/iris.csv'"
     ]
    }
   ],
   "source": [
    "import pandas as pd\n",
    "import matplotlib.pyplot as plt\n",
    "iris = pd.read_csv(\"/content/iris.csv\")\n",
    "ax=plt.subplots(1,1,figsize=(10,8))\n",
    "iris['species'].value_counts().plot.pie(explode=[0.1,0.1,0.1],autopct='%1.1f%%',shadow=True,figsize=(6,5))\n",
    "plt.title(\"Iris Species %\")\n",
    "plt.show()\n"
   ]
  },
  {
   "cell_type": "code",
   "execution_count": 23,
   "id": "40102c6f",
   "metadata": {},
   "outputs": [
    {
     "data": {
      "image/png": "[encoded data removed]",
      "text/plain": [
       "<Figure size 640x480 with 1 Axes>"
      ]
     },
     "metadata": {},
     "output_type": "display_data"
    }
   ],
   "source": [
    "import matplotlib.pyplot as plt \n",
    "fig = plt.figure() \n",
    "ax = fig.add_axes([0,0,1,1]) \n",
    "langs = ['C', 'C++', 'Java', 'Python', 'PHP'] \n",
    "students = [23,17,35,29,12] \n",
    "ax.bar(langs,students) \n",
    "plt.show()\n"
   ]
  },
  {
   "cell_type": "code",
   "execution_count": null,
   "id": "cc372fa4",
   "metadata": {},
   "outputs": [],
   "source": []
  },
  {
   "cell_type": "code",
   "execution_count": null,
   "id": "084b490b",
   "metadata": {},
   "outputs": [],
   "source": []
  },
  {
   "cell_type": "code",
   "execution_count": null,
   "id": "ee765fe5",
   "metadata": {},
   "outputs": [],
   "source": []
  },
  {
   "cell_type": "code",
   "execution_count": null,
   "id": "feb89803",
   "metadata": {},
   "outputs": [],
   "source": []
  },
  {
   "cell_type": "code",
   "execution_count": null,
   "id": "eff3882b",
   "metadata": {},
   "outputs": [],
   "source": []
  },
  {
   "cell_type": "code",
   "execution_count": null,
   "id": "d73225bd",
   "metadata": {},
   "outputs": [],
   "source": []
  },
  {
   "cell_type": "code",
   "execution_count": null,
   "id": "feaffaa6",
   "metadata": {},
   "outputs": [],
   "source": []
  },
  {
   "cell_type": "code",
   "execution_count": null,
   "id": "074f1166",
   "metadata": {},
   "outputs": [],
   "source": []
  },
  {
   "cell_type": "code",
   "execution_count": null,
   "id": "7a11cfe6",
   "metadata": {},
   "outputs": [],
   "source": []
  }
 ],
 "metadata": {
  "kernelspec": {
   "display_name": "Python 3 (ipykernel)",
   "language": "python",
   "name": "python3"
  },
  "language_info": {
   "codemirror_mode": {
    "name": "ipython",
    "version": 3
   },
   "file_extension": ".py",
   "mimetype": "text/x-python",
   "name": "python",
   "nbconvert_exporter": "python",
   "pygments_lexer": "ipython3",
   "version": "3.9.13"
  }
 },
 "nbformat": 4,
 "nbformat_minor": 5
}
